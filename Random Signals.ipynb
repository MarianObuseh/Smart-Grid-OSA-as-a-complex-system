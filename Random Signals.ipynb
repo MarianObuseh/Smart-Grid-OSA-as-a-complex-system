{
 "cells": [
  {
   "cell_type": "markdown",
   "metadata": {},
   "source": [
    "## Modeling of Smart Grid Control Center Operations: The Operators Standpoint"
   ]
  },
  {
   "cell_type": "code",
   "execution_count": null,
   "metadata": {},
   "outputs": [],
   "source": [
    "# importing relevant libraries\n",
    "import numpy as np\n",
    "import matplotlib\n",
    "import matplotlib.pyplot as plt\n",
    "import seaborn as sns\n",
    "import PIL.Image\n",
    "import time\n",
    "import IPython.display\n",
    "from copy import copy\n",
    "from scipy.integrate import odeint\n",
    "from io import BytesIO as bio\n",
    "from abc import ABC, abstractmethod\n",
    "%matplotlib inline"
   ]
  },
  {
   "cell_type": "code",
   "execution_count": null,
   "metadata": {},
   "outputs": [],
   "source": [
    "# define a Game class characterized by a set of rules, an initial state and the grid size\n",
    "class Game:\n",
    "    def __init__(self, initial_state, rules, max_size):\n",
    "        self.initial_state = initial_state\n",
    "        self.rules = rules\n",
    "        self.max_size = max_size\n",
    "    def run_game(self, iteration):\n",
    "        state = self.initial_state\n",
    "        previous_state = None\n",
    "        progression = []\n",
    "        i = 0\n",
    "        while (not state.equals(previous_state) and i < iteration):\n",
    "            i += 1\n",
    "            previous_state = state.copy()\n",
    "            progression.append(previous_state.grid)\n",
    "            state = state.apply_rules(self.rules,self.max_size)\n",
    "        progression.append(state.grid)\n",
    "        return progression"
   ]
  },
  {
   "cell_type": "code",
   "execution_count": null,
   "metadata": {},
   "outputs": [],
   "source": [
    "# define an abstract class that defines methods that will be created within all classes built from the SparseRepState class\n",
    "class State(ABC):\n",
    "    @abstractmethod\n",
    "    def copy(self):\n",
    "        pass\n",
    "\n",
    "    @abstractmethod\n",
    "    def apply_rules(self, rules, max_size):\n",
    "        pass\n",
    "\n",
    "    @abstractmethod\n",
    "    def equals(self, other):\n",
    "        pass\n",
    "\n",
    "    @abstractmethod\n",
    "    def get_neighbours(self, elem, max_size):\n",
    "        pass"
   ]
  },
  {
   "cell_type": "code",
   "execution_count": null,
   "metadata": {},
   "outputs": [],
   "source": [
    "# define states through a Sparse Representation class that encodes only the subjects of the sparse representation\n",
    "class SparseRepState(State):\n",
    "    def __init__(self, grid):\n",
    "        self.grid = grid\n",
    "\n",
    "    def copy(self):\n",
    "        return SparseRepState(copy(self.grid))\n",
    "    \n",
    "    def get_neighbours(self, elem, max_size):\n",
    "        #Returns the neighbours of a live cell if they lie within the bounds of the grid specified by max_size\n",
    "        l = []\n",
    "        if elem[0]-1 >= 0:\n",
    "            l.append((elem[0]-1, elem[1]))\n",
    "        if elem[0]-1 >= 0 and elem[1]-1 >= 0:\n",
    "            l.append((elem[0]-1, elem[1]-1))\n",
    "        if elem[0]-1 >= 0 and elem[1]+1 < max_size:\n",
    "            l.append((elem[0]-1, elem[1]+1))\n",
    "        if elem[1]-1 >= 0:\n",
    "            l.append((elem[0], elem[1]-1))\n",
    "        if elem[1]-1 >= 0 and elem[0]+1 < max_size:\n",
    "            l.append((elem[0]+1, elem[1]-1))\n",
    "        if elem[1]+1 < max_size:\n",
    "            l.append((elem[0], elem[1]+1))\n",
    "        if elem[0]+1 < max_size:\n",
    "            l.append((elem[0]+1, elem[1]))\n",
    "        if elem[1]+1 < max_size and elem[0]+1 < max_size:\n",
    "            l.append((elem[0]+1, elem[1]+1))\n",
    "        return l\n",
    "\n",
    "    def equals(self, other):\n",
    "        if other is None:\n",
    "            return False\n",
    "        return self.grid == other.grid\n",
    "\n",
    "    def apply_rules(self, rules, max_size):\n",
    "        #Calls the actual rules and provides them with the grid and the neighbour function\n",
    "        self.grid = rules.apply_rules(self.grid, max_size,self.get_neighbours)\n",
    "        return self"
   ]
  },
  {
   "cell_type": "code",
   "execution_count": null,
   "metadata": {},
   "outputs": [],
   "source": [
    "# define an abstract class that defines methods that will be created within all classes built from the SparseRepRules class\n",
    "class Rule(ABC):\n",
    "    @abstractmethod\n",
    "    def apply_rules(self, grid, max_size, get_neighbours):\n",
    "        pass"
   ]
  },
  {
   "cell_type": "markdown",
   "metadata": {},
   "source": [
    "# Cascading Phase Modeling"
   ]
  },
  {
   "cell_type": "markdown",
   "metadata": {},
   "source": [
    "#### Here, I make an attempt to simulate what happens when signals are sparsely distributed in a decision making center - as in the case of simultaneous alarms (cognitive overloads)."
   ]
  },
  {
   "cell_type": "markdown",
   "metadata": {},
   "source": [
    "The following are a set of rules of engagement in this scenario. A cell becomes activated - becomes a signal if at least 3 of its neighbours are already existing signals. A remains a signal if 2 or 3 of its neighbors are signals. Otherwise, it is a noise - normal operating condition."
   ]
  },
  {
   "cell_type": "code",
   "execution_count": null,
   "metadata": {},
   "outputs": [],
   "source": [
    "# define rules of the game that guides the states evolution\n",
    "class SparseRepRules(Rule):\n",
    "    def apply_rules(self, grid, max_size, get_neighbours):\n",
    "        #grid = state.grid\n",
    "        counter = {}\n",
    "        for elem in grid:\n",
    "            if elem not in counter:\n",
    "                counter[elem]=0\n",
    "            nb = get_neighbours(elem, max_size)\n",
    "            for n in nb:\n",
    "                if n not in counter:\n",
    "                    counter[n] = 1\n",
    "                else:\n",
    "                    counter[n] += 1\n",
    "        for c in counter:\n",
    "            if (counter[c] < 2 or  counter[c] > 3):\n",
    "                grid.discard(c)\n",
    "            if counter[c] == 3:\n",
    "                grid.add(c)\n",
    "        return grid"
   ]
  },
  {
   "cell_type": "markdown",
   "metadata": {},
   "source": [
    "The variables below are needed for this simulation. Here, I randomly encode signals (white/dead cells) across the grid. The goal is to show what happens in the center when simultaneous alarms happen and there's a slow intervention by operators. This can potentially culminate into the cascading phase of a blackout.\n"
   ]
  },
  {
   "cell_type": "code",
   "execution_count": null,
   "metadata": {},
   "outputs": [],
   "source": [
    "# defining grid size, number of iterations, configurations \n",
    "num_iter = 1500\n",
    "grid_length = 80\n",
    "\n",
    "init = np.zeros((grid_length, grid_length), dtype = bool)\n",
    "board = {(39, 40),(39, 41),(40, 39),(40, 40),(41, 40)}\n",
    "\n",
    "rules = SparseRepRules()\n",
    "game = Game(SparseRepState(board), rules, grid_length)\n",
    "\n",
    "run_time = time.time()\n",
    "game_run = game.run_game(num_iter)\n",
    "\n",
    "print(time.time()-run_time)"
   ]
  },
  {
   "cell_type": "code",
   "execution_count": null,
   "metadata": {},
   "outputs": [],
   "source": [
    "#transform sparse representation to an array that can be plotted\n",
    "res = np.zeros((len(game_run), grid_length, grid_length), dtype=bool)\n",
    "for l in range(0,len(game_run)):\n",
    "    for key in game_run[l]:\n",
    "        res[l,key[0], key[1]] = True"
   ]
  },
  {
   "cell_type": "code",
   "execution_count": null,
   "metadata": {},
   "outputs": [],
   "source": [
    "#transform array to a gif and save to a file\n",
    "def save_gif(array, file_name):\n",
    "    array = np.uint8(np.clip(array,0,1)*255.0)\n",
    "    frames = []\n",
    "    for frame in range(array.shape[0]):\n",
    "        img = PIL.Image.fromarray(array[frame])\n",
    "        img = img.resize((500, 500))\n",
    "        frames.append(img)\n",
    "    img.save(file_name, save_all=True, duration=33.33, append_images=frames, loop=0,size=(500,500))\n",
    "    \n",
    "save_gif(res,\"output1.gif\")"
   ]
  },
  {
   "cell_type": "markdown",
   "metadata": {},
   "source": [
    "# Characterizing Cascading Signals"
   ]
  },
  {
   "cell_type": "markdown",
   "metadata": {},
   "source": [
    "For the Smart Grid Decision Making Center, I model potential cascading signals with a sigmoid function characterized by a Logistic Differential Equation.<br/>\n",
    "\n",
    "\\begin{equation*}\n",
    "\\frac{dN}{dt} = rN(1 - \\frac{N}{K})\n",
    "\\end{equation*}\n",
    "\n",
    "where <br/>\n",
    "r = Cascading Growth Rate until asymptosis <br/>\n",
    "K = Maximum allowable signal magnitude given the area of coverage of the distribution center <br/>\n",
    "N = Signal Magnitude at current model run time represented by the number of tripped components <br/>\n",
    "\n",
    "The differential represents the change in cascading rate with respect to the change in detection time"
   ]
  },
  {
   "cell_type": "code",
   "execution_count": null,
   "metadata": {},
   "outputs": [],
   "source": [
    "def logistic(n, t, r):\n",
    "    k = 10\n",
    "    dndt = r*n*(1-n/k)\n",
    "    return dndt\n",
    "\n",
    "# initial condition\n",
    "n_init = 1\n",
    "\n",
    "# time points\n",
    "t = np.linspace(0, 60)  \n",
    "\n",
    "# solving logistic differential equations for different cascading growth rate with odeint\n",
    "r = 0.2\n",
    "n1 = odeint(logistic, n_init, t, args = (r,))\n",
    "r = 0.4\n",
    "n2 = odeint(logistic, n_init, t, args = (r,))\n",
    "r = 0.5\n",
    "n3 = odeint(logistic, n_init, t, args = (r,))\n",
    "\n",
    "# plot results\n",
    "plt.plot(t, n1, \"r-\", linewidth = 2, label = \"k = 0.2\")\n",
    "plt.plot(t, n2, \"b--\", linewidth = 2, label = \"k = 0.4\")\n",
    "plt.plot(t, n3, \"g:\", linewidth = 2, label = \"k = 0.5\")\n",
    "\n",
    "# plot label and title\n",
    "plt.xlabel(\"Time (minutes)\")\n",
    "plt.ylabel(\"Signal Magnitude\")\n",
    "plt.title(\"Plot of Signal Magnitude against Time\")\n",
    "\n",
    "# plot aesthetics\n",
    "plt.grid(b=True, which='major', color='#666666', linestyle='-', alpha = 0.6)\n",
    "plt.minorticks_on()\n",
    "plt.grid(b=True, which='minor', color='#999999', linestyle='-', alpha=0.2)\n",
    "plt.legend(loc = \"best\")\n",
    "\n",
    "# display plot\n",
    "plt.show()"
   ]
  },
  {
   "cell_type": "markdown",
   "metadata": {},
   "source": [
    "# Agent - Agent Interactions"
   ]
  },
  {
   "cell_type": "markdown",
   "metadata": {},
   "source": [
    "Here, I simulate agent-agent interactions. I assume that operators can either be distracted (white cells) or focused (black cells). A cell remains focused if less than 4 of its neighboring operators are distracted. Otherwise, the operator becomes distracted."
   ]
  },
  {
   "cell_type": "code",
   "execution_count": null,
   "metadata": {},
   "outputs": [],
   "source": [
    "# define rules of the game that guides the states evolution\n",
    "class SparseRepRules(Rule):\n",
    "    def apply_rules(self, grid, max_size, get_neighbours):\n",
    "        #grid = state.grid\n",
    "        counter = {}\n",
    "        for elem in grid:\n",
    "            if elem not in counter:\n",
    "                counter[elem]=0\n",
    "            nb = get_neighbours(elem, max_size)\n",
    "            for n in nb:\n",
    "                if n not in counter:\n",
    "                    counter[n] = 1\n",
    "                else:\n",
    "                    counter[n] += 1\n",
    "        for c in counter:\n",
    "            if (counter[c] < 2 or  counter[c] > 3):\n",
    "                grid.discard(c)\n",
    "            if counter[c] == 3:\n",
    "                grid.add(c)\n",
    "        return grid  "
   ]
  },
  {
   "cell_type": "markdown",
   "metadata": {},
   "source": [
    "The variables below are needed for this simulation. Here, I randomly encode signals (white/dead cells) across the grid.\n"
   ]
  },
  {
   "cell_type": "code",
   "execution_count": null,
   "metadata": {},
   "outputs": [],
   "source": [
    "# defining grid size, number of iterations, configurations \n",
    "num_iter = 1500\n",
    "grid_length = 200\n",
    "\n",
    "init = np.zeros((grid_length, grid_length), dtype = bool)\n",
    "\n",
    "# sparsely distribute 36 distracted operators across the grid\n",
    "board = {(50,180), (51,180), (50,181), (51,181), (60,180), (60,179), (60,181), (61,178),\n",
    "         (62,177), (63,177), (61,182), (62,183), (63,183), (65,182), (66,181), (66,180),\n",
    "         (66,179), (65,178), (64,180), (67,180), (70,181), (70,182), (70,183), (71,181),\n",
    "         (71,182), (71,183), (72,180), (72,184), (74,180), (74,179), (74,184), (74,185),\n",
    "         (84,182), (84,183), (85,182), (85,183)} \n",
    "\n",
    "rules = SparseRepRules()\n",
    "game = Game(SparseRepState(board), rules, grid_length)\n",
    "\n",
    "run_time = time.time()\n",
    "game_run = game.run_game(num_iter)\n",
    "\n",
    "print(time.time()-run_time)"
   ]
  },
  {
   "cell_type": "code",
   "execution_count": null,
   "metadata": {},
   "outputs": [],
   "source": [
    "#transform sparse representation to an array that can be plotted\n",
    "ress = np.zeros((len(game_run), grid_length, grid_length), dtype=bool)\n",
    "for l in range(0,len(game_run)):\n",
    "    for key in game_run[l]:\n",
    "        ress[l,key[0], key[1]] = True"
   ]
  },
  {
   "cell_type": "code",
   "execution_count": null,
   "metadata": {},
   "outputs": [],
   "source": [
    "#transform array to a gif and save to a file\n",
    "def save_gif(array, file_name):\n",
    "    array = np.uint8(np.clip(array,0,1)*255.0)\n",
    "    frames = []\n",
    "    for frame in range(array.shape[0]):\n",
    "        img = PIL.Image.fromarray(array[frame])\n",
    "        img = img.resize((500, 500))\n",
    "        frames.append(img)\n",
    "    img.save(file_name, save_all=True, duration=33.33, append_images=frames, loop=0,size=(500,500))\n",
    "    \n",
    "save_gif(ress,\"output2.gif\")"
   ]
  }
 ],
 "metadata": {
  "kernelspec": {
   "display_name": "Python 3",
   "language": "python",
   "name": "python3"
  },
  "language_info": {
   "codemirror_mode": {
    "name": "ipython",
    "version": 3
   },
   "file_extension": ".py",
   "mimetype": "text/x-python",
   "name": "python",
   "nbconvert_exporter": "python",
   "pygments_lexer": "ipython3",
   "version": "3.7.3"
  }
 },
 "nbformat": 4,
 "nbformat_minor": 4
}
